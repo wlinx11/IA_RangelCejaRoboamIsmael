{
 "cells": [
  {
   "cell_type": "code",
   "execution_count": 1,
   "id": "a00a35e6",
   "metadata": {},
   "outputs": [
    {
     "name": "stdout",
     "output_type": "stream",
     "text": [
      "['Feliz', 'Neutral', 'Sorpresa', 'Triste']\n",
      "Modelo entrenado y guardado como 'imgLBPHFace.xml'\n"
     ]
    }
   ],
   "source": [
    "import cv2 as cv\n",
    "import numpy as np\n",
    "import os\n",
    "\n",
    "# Ruta del dataset\n",
    "dataSet = 'C://Users//ASUS//Desktop//universidad//IA//emociones//Emociones'\n",
    "faces = os.listdir(dataSet)\n",
    "print(faces)\n",
    "\n",
    "labels = []\n",
    "facesData = []\n",
    "label = 0\n",
    "\n",
    "# Cargar las imágenes del dataset\n",
    "for face in faces:\n",
    "    facePath = dataSet + '/' + face\n",
    "    for faceName in os.listdir(facePath):\n",
    "        labels.append(label)\n",
    "        facesData.append(cv.imread(facePath + '/' + faceName, 0))\n",
    "    label += 1\n",
    "\n",
    "# Crear el reconocedor LBPH y entrenarlo\n",
    "faceRecognizer = cv.face.LBPHFaceRecognizer_create()\n",
    "faceRecognizer.train(facesData, np.array(labels))\n",
    "faceRecognizer.write('carasLBPHFace.xml')\n",
    "\n",
    "print(\"Modelo entrenado y guardado como 'imgLBPHFace.xml'\")\n"
   ]
  },
  {
   "cell_type": "code",
   "execution_count": 3,
   "id": "2ac86de7",
   "metadata": {},
   "outputs": [],
   "source": [
    "import cv2 as cv\n",
    "import os\n",
    "\n",
    "# Leer el modelo entrenado\n",
    "faceRecognizer = cv.face.LBPHFaceRecognizer_create()\n",
    "faceRecognizer.read('carasLBPHFace.xml')\n",
    "\n",
    "# Iniciar captura de video\n",
    "cap = cv.VideoCapture(0)\n",
    "rostro = cv.CascadeClassifier('haarcascade_frontalface_alt.xml')\n",
    "\n",
    "while True:\n",
    "    ret, frame = cap.read()\n",
    "    if not ret:\n",
    "        break\n",
    "    \n",
    "    # Voltear el frame horizontalmente para modo espejo\n",
    "    frame = cv.flip(frame, 1)\n",
    "    \n",
    "    # Convertir a escala de grises y aplicar ecualización del histograma\n",
    "    gray = cv.cvtColor(frame, cv.COLOR_BGR2GRAY)\n",
    "    gray = cv.equalizeHist(gray)\n",
    "    gray = cv.GaussianBlur(gray, (5, 5), 0)  # Suavizar la imagen\n",
    "    cpGray = gray.copy()\n",
    "    \n",
    "    # Detección de rostros\n",
    "    rostros = rostro.detectMultiScale(gray, scaleFactor=1.2, minNeighbors=5)\n",
    "    for (x, y, w, h) in rostros:\n",
    "        frame2 = cpGray[y:y+h, x:x+w]\n",
    "        frame2 = cv.resize(frame2, (100, 100), interpolation=cv.INTER_CUBIC)\n",
    "        result = faceRecognizer.predict(frame2)\n",
    "        \n",
    "        # Si la predicción es confiable, mostrar la etiqueta y el rectángulo\n",
    "        if result[1] < 2800:\n",
    "            cv.putText(frame, '{}'.format(faces[result[0]]), (x, y-25), 2, 1.1, (0, 255, 0), 1, cv.LINE_AA)\n",
    "            cv.rectangle(frame, (x, y), (x+w, y+h), (0, 255, 0), 2)\n",
    "    \n",
    "    # Mostrar el frame\n",
    "    cv.imshow('frame', frame)\n",
    "    k = cv.waitKey(1)\n",
    "    if k == 27:\n",
    "        break\n",
    "\n",
    "# Liberar recursos\n",
    "cap.release()\n",
    "cv.destroyAllWindows()\n"
   ]
  },
  {
   "cell_type": "code",
   "execution_count": null,
   "id": "d364896e",
   "metadata": {},
   "outputs": [],
   "source": []
  }
 ],
 "metadata": {
  "kernelspec": {
   "display_name": "Python 3 (ipykernel)",
   "language": "python",
   "name": "python3"
  },
  "language_info": {
   "codemirror_mode": {
    "name": "ipython",
    "version": 3
   },
   "file_extension": ".py",
   "mimetype": "text/x-python",
   "name": "python",
   "nbconvert_exporter": "python",
   "pygments_lexer": "ipython3",
   "version": "3.11.4"
  }
 },
 "nbformat": 4,
 "nbformat_minor": 5
}
