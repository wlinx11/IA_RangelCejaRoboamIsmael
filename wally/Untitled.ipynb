{
 "cells": [
  {
   "cell_type": "code",
   "execution_count": 147,
   "id": "640c2c13",
   "metadata": {},
   "outputs": [],
   "source": [
    "import numpy as np\n",
    "import cv2 as cv\n",
    "\n",
    "# Cargar el clasificador entrenado\n",
    "rostro = cv.CascadeClassifier(r'C:\\Users\\ASUS\\Desktop\\universidad\\IA\\wally2\\classifier\\cascade.xml')\n",
    "\n",
    "# Cargar la imagen de Wally\n",
    "img = cv.imread(r'C:\\Users\\ASUS\\Desktop\\universidad\\IA\\wally2\\prueba\\Pruebas\\wallyfinal.jpg')\n",
    "\n",
    "# Convertir la imagen a escala de grises\n",
    "gray = cv.cvtColor(img, cv.COLOR_BGR2GRAY)\n",
    "\n",
    "# Detectar rostros en la imagen\n",
    "rostros = rostro.detectMultiScale(gray, 1.3, 3)\n",
    "\n",
    "# Procesar cada rostro detectado\n",
    "for (x, y, w, h) in rostros:\n",
    "    # Dibujar un rectángulo verde alrededor del rostro detectado\n",
    "    img = cv.rectangle(img, (x, y), (x + w, y + h), (0, 255, 0), 2)\n",
    "\n",
    "# Mostrar la imagen con los rostros detectados y los rectángulos\n",
    "cv.imshow('Wally', img)\n",
    "cv.waitKey(0)\n",
    "cv.destroyAllWindows()"
   ]
  },
  {
   "cell_type": "code",
   "execution_count": 178,
   "id": "43ccea7c",
   "metadata": {},
   "outputs": [],
   "source": [
    "import numpy as np\n",
    "import cv2 as cv\n",
    "\n",
    "# Cargar el clasificador entrenado\n",
    "rostro = cv.CascadeClassifier(r'C:\\Users\\ASUS\\Desktop\\universidad\\IA\\wally2\\classifier\\cascade.xml')\n",
    "\n",
    "# Cargar la imagen de Wally\n",
    "img = cv.imread(r'C:\\Users\\ASUS\\Desktop\\universidad\\IA\\wally2\\prueba\\Pruebas\\wallyfinal3.jpg')\n",
    "\n",
    "# Convertir la imagen a escala de grises\n",
    "gray = cv.cvtColor(img, cv.COLOR_BGR2GRAY)\n",
    "\n",
    "# Detectar rostros en la imagen\n",
    "rostros = rostro.detectMultiScale(gray, 3, 30)\n",
    "\n",
    "# Procesar cada rostro detectado\n",
    "for (x, y, w, h) in rostros:\n",
    "    # Dibujar un rectángulo verde alrededor del rostro detectado\n",
    "    img = cv.rectangle(img, (x, y), (x + w, y + h), (0, 255, 0), 2)\n",
    "\n",
    "# Mostrar la imagen con los rostros detectados y los rectángulos\n",
    "cv.imshow('Wally', img)\n",
    "cv.waitKey(0)\n",
    "cv.destroyAllWindows()"
   ]
  },
  {
   "cell_type": "code",
   "execution_count": 151,
   "id": "d8e4b6f5",
   "metadata": {},
   "outputs": [],
   "source": [
    "import numpy as np\n",
    "import cv2 as cv\n",
    "\n",
    "# Cargar el clasificador entrenado\n",
    "rostro = cv.CascadeClassifier(r'C:\\Users\\ASUS\\Desktop\\universidad\\IA\\wally2\\classifier\\cascade.xml')\n",
    "\n",
    "# Cargar la imagen de Wally\n",
    "img = cv.imread(r'C:\\Users\\ASUS\\Desktop\\universidad\\IA\\wally2\\prueba\\Pruebas\\wally 1.jpg')\n",
    "\n",
    "# Convertir la imagen a escala de grises\n",
    "gray = cv.cvtColor(img, cv.COLOR_BGR2GRAY)\n",
    "\n",
    "# Detectar rostros en la imagen\n",
    "rostros = rostro.detectMultiScale(gray, 1.5, 4)\n",
    "\n",
    "# Procesar cada rostro detectado\n",
    "for (x, y, w, h) in rostros:\n",
    "    # Dibujar un rectángulo verde alrededor del rostro detectado\n",
    "    img = cv.rectangle(img, (x, y), (x + w, y + h), (0, 255, 0), 2)\n",
    "\n",
    "# Mostrar la imagen con los rostros detectados y los rectángulos\n",
    "cv.imshow('Wally', img)\n",
    "cv.waitKey(0)\n",
    "cv.destroyAllWindows()"
   ]
  },
  {
   "cell_type": "code",
   "execution_count": null,
   "id": "e3a62365",
   "metadata": {},
   "outputs": [],
   "source": []
  }
 ],
 "metadata": {
  "kernelspec": {
   "display_name": "Python 3 (ipykernel)",
   "language": "python",
   "name": "python3"
  },
  "language_info": {
   "codemirror_mode": {
    "name": "ipython",
    "version": 3
   },
   "file_extension": ".py",
   "mimetype": "text/x-python",
   "name": "python",
   "nbconvert_exporter": "python",
   "pygments_lexer": "ipython3",
   "version": "3.11.4"
  }
 },
 "nbformat": 4,
 "nbformat_minor": 5
}
